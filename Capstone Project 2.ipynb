{
 "cells": [
  {
   "cell_type": "code",
   "execution_count": 147,
   "metadata": {},
   "outputs": [],
   "source": [
    "import numpy as np\n",
    "import matplotlib.pyplot as plt\n",
    "import pandas as pd"
   ]
  },
  {
   "cell_type": "code",
   "execution_count": 148,
   "metadata": {},
   "outputs": [],
   "source": [
    "df =pd.read_csv('Vehicle_Accidents_in_Iowa_by_Location__Last_Ten_Years_.csv')"
   ]
  },
  {
   "cell_type": "code",
   "execution_count": 149,
   "metadata": {},
   "outputs": [
    {
     "data": {
      "text/plain": [
       "(557185, 37)"
      ]
     },
     "execution_count": 149,
     "metadata": {},
     "output_type": "execute_result"
    }
   ],
   "source": [
    "df.shape"
   ]
  },
  {
   "cell_type": "code",
   "execution_count": 150,
   "metadata": {},
   "outputs": [
    {
     "data": {
      "text/html": [
       "<div>\n",
       "<style scoped>\n",
       "    .dataframe tbody tr th:only-of-type {\n",
       "        vertical-align: middle;\n",
       "    }\n",
       "\n",
       "    .dataframe tbody tr th {\n",
       "        vertical-align: top;\n",
       "    }\n",
       "\n",
       "    .dataframe thead th {\n",
       "        text-align: right;\n",
       "    }\n",
       "</style>\n",
       "<table border=\"1\" class=\"dataframe\">\n",
       "  <thead>\n",
       "    <tr style=\"text-align: right;\">\n",
       "      <th></th>\n",
       "      <th>DOT Case Number</th>\n",
       "      <th>Law Enforcement Case Number</th>\n",
       "      <th>Crash Date &amp; Time</th>\n",
       "      <th>District</th>\n",
       "      <th>County</th>\n",
       "      <th>City</th>\n",
       "      <th>Route</th>\n",
       "      <th>Crash Month</th>\n",
       "      <th>Crash Day</th>\n",
       "      <th>Crash Time</th>\n",
       "      <th>...</th>\n",
       "      <th>Fatalities</th>\n",
       "      <th>Injuries</th>\n",
       "      <th>Major Injuries</th>\n",
       "      <th>Minor Injuries</th>\n",
       "      <th>Possible Injuries</th>\n",
       "      <th>Unknown Injuries</th>\n",
       "      <th>Property Damage</th>\n",
       "      <th>Report Type</th>\n",
       "      <th>Rest Update</th>\n",
       "      <th>Crash Location</th>\n",
       "    </tr>\n",
       "  </thead>\n",
       "  <tbody>\n",
       "    <tr>\n",
       "      <th>0</th>\n",
       "      <td>2011636263</td>\n",
       "      <td>11-1528</td>\n",
       "      <td>06/28/2011 11:38:00 AM</td>\n",
       "      <td>1</td>\n",
       "      <td>POLK</td>\n",
       "      <td>URBANDALE</td>\n",
       "      <td>NaN</td>\n",
       "      <td>June</td>\n",
       "      <td>Tuesday</td>\n",
       "      <td>11:38</td>\n",
       "      <td>...</td>\n",
       "      <td>0</td>\n",
       "      <td>0</td>\n",
       "      <td>0</td>\n",
       "      <td>0</td>\n",
       "      <td>0</td>\n",
       "      <td>0</td>\n",
       "      <td>6500</td>\n",
       "      <td>TraCS</td>\n",
       "      <td>08/14/2018 04:42:27 PM</td>\n",
       "      <td>POINT (-93.73654589797147 41.62922672395549)</td>\n",
       "    </tr>\n",
       "    <tr>\n",
       "      <th>1</th>\n",
       "      <td>2011643409</td>\n",
       "      <td>201101827</td>\n",
       "      <td>07/03/2011 09:43:00 PM</td>\n",
       "      <td>1</td>\n",
       "      <td>BOONE</td>\n",
       "      <td>NaN</td>\n",
       "      <td>NaN</td>\n",
       "      <td>July</td>\n",
       "      <td>Sunday</td>\n",
       "      <td>21:43</td>\n",
       "      <td>...</td>\n",
       "      <td>0</td>\n",
       "      <td>0</td>\n",
       "      <td>0</td>\n",
       "      <td>0</td>\n",
       "      <td>0</td>\n",
       "      <td>0</td>\n",
       "      <td>2000</td>\n",
       "      <td>TraCS</td>\n",
       "      <td>08/14/2018 04:42:27 PM</td>\n",
       "      <td>POINT (-93.87429624122426 42.18527185276003)</td>\n",
       "    </tr>\n",
       "    <tr>\n",
       "      <th>2</th>\n",
       "      <td>2011641023</td>\n",
       "      <td>11-0088</td>\n",
       "      <td>02/08/2011 07:00:00 PM</td>\n",
       "      <td>1</td>\n",
       "      <td>WEBSTER</td>\n",
       "      <td>NaN</td>\n",
       "      <td>NaN</td>\n",
       "      <td>February</td>\n",
       "      <td>Tuesday</td>\n",
       "      <td>19:00</td>\n",
       "      <td>...</td>\n",
       "      <td>0</td>\n",
       "      <td>0</td>\n",
       "      <td>0</td>\n",
       "      <td>0</td>\n",
       "      <td>0</td>\n",
       "      <td>0</td>\n",
       "      <td>2000</td>\n",
       "      <td>TraCS</td>\n",
       "      <td>08/14/2018 04:42:27 PM</td>\n",
       "      <td>POINT (-94.12854269059548 42.46583138486093)</td>\n",
       "    </tr>\n",
       "    <tr>\n",
       "      <th>3</th>\n",
       "      <td>2012684967</td>\n",
       "      <td>NaN</td>\n",
       "      <td>05/04/2012 11:51:00 AM</td>\n",
       "      <td>6</td>\n",
       "      <td>JOHNSON</td>\n",
       "      <td>IOWA CITY</td>\n",
       "      <td>US 6</td>\n",
       "      <td>May</td>\n",
       "      <td>Friday</td>\n",
       "      <td>11:51</td>\n",
       "      <td>...</td>\n",
       "      <td>0</td>\n",
       "      <td>0</td>\n",
       "      <td>0</td>\n",
       "      <td>0</td>\n",
       "      <td>0</td>\n",
       "      <td>0</td>\n",
       "      <td>2599</td>\n",
       "      <td>Officer</td>\n",
       "      <td>08/14/2018 04:42:27 PM</td>\n",
       "      <td>POINT (-91.53210057297697 41.64546030234435)</td>\n",
       "    </tr>\n",
       "    <tr>\n",
       "      <th>4</th>\n",
       "      <td>2011642449</td>\n",
       "      <td>NaN</td>\n",
       "      <td>07/27/2011 06:10:00 AM</td>\n",
       "      <td>1</td>\n",
       "      <td>POLK</td>\n",
       "      <td>DES MOINES</td>\n",
       "      <td>NaN</td>\n",
       "      <td>July</td>\n",
       "      <td>Wednesday</td>\n",
       "      <td>06:10</td>\n",
       "      <td>...</td>\n",
       "      <td>0</td>\n",
       "      <td>0</td>\n",
       "      <td>0</td>\n",
       "      <td>0</td>\n",
       "      <td>0</td>\n",
       "      <td>0</td>\n",
       "      <td>3100</td>\n",
       "      <td>Officer</td>\n",
       "      <td>08/14/2018 04:42:27 PM</td>\n",
       "      <td>POINT (-93.62744704200334 41.586315087439765)</td>\n",
       "    </tr>\n",
       "  </tbody>\n",
       "</table>\n",
       "<p>5 rows × 37 columns</p>\n",
       "</div>"
      ],
      "text/plain": [
       "   DOT Case Number Law Enforcement Case Number       Crash Date & Time  \\\n",
       "0       2011636263                     11-1528  06/28/2011 11:38:00 AM   \n",
       "1       2011643409                   201101827  07/03/2011 09:43:00 PM   \n",
       "2       2011641023                     11-0088  02/08/2011 07:00:00 PM   \n",
       "3       2012684967                         NaN  05/04/2012 11:51:00 AM   \n",
       "4       2011642449                         NaN  07/27/2011 06:10:00 AM   \n",
       "\n",
       "   District   County        City Route Crash Month  Crash Day Crash Time  ...  \\\n",
       "0         1     POLK   URBANDALE   NaN        June    Tuesday      11:38  ...   \n",
       "1         1    BOONE         NaN   NaN        July     Sunday      21:43  ...   \n",
       "2         1  WEBSTER         NaN   NaN    February    Tuesday      19:00  ...   \n",
       "3         6  JOHNSON   IOWA CITY  US 6         May     Friday      11:51  ...   \n",
       "4         1     POLK  DES MOINES   NaN        July  Wednesday      06:10  ...   \n",
       "\n",
       "  Fatalities Injuries Major Injuries Minor Injuries Possible Injuries  \\\n",
       "0          0        0              0              0                 0   \n",
       "1          0        0              0              0                 0   \n",
       "2          0        0              0              0                 0   \n",
       "3          0        0              0              0                 0   \n",
       "4          0        0              0              0                 0   \n",
       "\n",
       "  Unknown Injuries Property Damage Report Type             Rest Update  \\\n",
       "0                0            6500       TraCS  08/14/2018 04:42:27 PM   \n",
       "1                0            2000       TraCS  08/14/2018 04:42:27 PM   \n",
       "2                0            2000       TraCS  08/14/2018 04:42:27 PM   \n",
       "3                0            2599     Officer  08/14/2018 04:42:27 PM   \n",
       "4                0            3100     Officer  08/14/2018 04:42:27 PM   \n",
       "\n",
       "                                  Crash Location  \n",
       "0   POINT (-93.73654589797147 41.62922672395549)  \n",
       "1   POINT (-93.87429624122426 42.18527185276003)  \n",
       "2   POINT (-94.12854269059548 42.46583138486093)  \n",
       "3   POINT (-91.53210057297697 41.64546030234435)  \n",
       "4  POINT (-93.62744704200334 41.586315087439765)  \n",
       "\n",
       "[5 rows x 37 columns]"
      ]
     },
     "execution_count": 150,
     "metadata": {},
     "output_type": "execute_result"
    }
   ],
   "source": [
    "df.head()"
   ]
  },
  {
   "cell_type": "code",
   "execution_count": 151,
   "metadata": {},
   "outputs": [
    {
     "data": {
      "text/plain": [
       "Index(['DOT Case Number', 'Law Enforcement Case Number', 'Crash Date & Time',\n",
       "       'District', 'County', 'City', 'Route', 'Crash Month', 'Crash Day',\n",
       "       'Crash Time', 'Major Cause', 'Crash Manner', 'Crash Severity',\n",
       "       'Surface Conditions', 'Drug/Alcohol Related', 'Environment', 'Roadway',\n",
       "       'Light Conditions', 'Weather Conditions', 'Work Zone', 'Paved Road',\n",
       "       'Roadway Junction', 'First Harmful Event', 'Harmful Event Location',\n",
       "       'Literal Description', 'Vehicles', 'Occupants', 'Fatalities',\n",
       "       'Injuries', 'Major Injuries', 'Minor Injuries', 'Possible Injuries',\n",
       "       'Unknown Injuries', 'Property Damage', 'Report Type', 'Rest Update',\n",
       "       'Crash Location'],\n",
       "      dtype='object')"
      ]
     },
     "execution_count": 151,
     "metadata": {},
     "output_type": "execute_result"
    }
   ],
   "source": [
    "df.columns"
   ]
  },
  {
   "cell_type": "code",
   "execution_count": 152,
   "metadata": {},
   "outputs": [
    {
     "data": {
      "text/plain": [
       "119890    Non-intersection:  Non-junction/no special fea...\n",
       "125185                 Intersection:  Four-way intersection\n",
       "348497                 Intersection:  Four-way intersection\n",
       "41663     Intersection:  Other intersection (explain in ...\n",
       "221560    Non-intersection:  Non-junction/no special fea...\n",
       "84769                         Intersection:  T-intersection\n",
       "15040     Non-intersection:  Other non-intersection (exp...\n",
       "320169                 Intersection:  Four-way intersection\n",
       "238323                 Intersection:  Four-way intersection\n",
       "275568          Non-intersection:  Driveway access (within)\n",
       "523167    Non-intersection:  Non-junction/no special fea...\n",
       "456513                 Intersection:  Four-way intersection\n",
       "117367                 Intersection:  Four-way intersection\n",
       "252113    Non-intersection:  Non-junction/no special fea...\n",
       "503365    Non-intersection:  Non-junction/no special fea...\n",
       "26293     Non-intersection:  Non-junction/no special fea...\n",
       "333793                 Intersection:  Four-way intersection\n",
       "150624                 Intersection:  Four-way intersection\n",
       "189331    Non-intersection:  Other non-intersection (exp...\n",
       "152707                 Intersection:  Four-way intersection\n",
       "Name: Roadway Junction, dtype: object"
      ]
     },
     "execution_count": 152,
     "metadata": {},
     "output_type": "execute_result"
    }
   ],
   "source": [
    "df['Roadway Junction'].sample(20)"
   ]
  },
  {
   "cell_type": "code",
   "execution_count": 153,
   "metadata": {},
   "outputs": [
    {
     "data": {
      "text/plain": [
       "550459"
      ]
     },
     "execution_count": 153,
     "metadata": {},
     "output_type": "execute_result"
    }
   ],
   "source": [
    "df['Work Zone'].isnull().sum()"
   ]
  },
  {
   "cell_type": "markdown",
   "metadata": {},
   "source": [
    "Nearly the entirety of the 'Work Zone' column are missing values. Consider dropping."
   ]
  },
  {
   "cell_type": "code",
   "execution_count": 154,
   "metadata": {
    "scrolled": true
   },
   "outputs": [
    {
     "data": {
      "text/plain": [
       "330681"
      ]
     },
     "execution_count": 154,
     "metadata": {},
     "output_type": "execute_result"
    }
   ],
   "source": [
    "df['Route'].isnull().sum()"
   ]
  },
  {
   "cell_type": "markdown",
   "metadata": {},
   "source": [
    "Less than half of the values are missing, but unsure how I would be able to fill missing values. Consider dropping."
   ]
  },
  {
   "cell_type": "code",
   "execution_count": 155,
   "metadata": {},
   "outputs": [
    {
     "data": {
      "text/plain": [
       "0"
      ]
     },
     "execution_count": 155,
     "metadata": {},
     "output_type": "execute_result"
    }
   ],
   "source": [
    "df['Crash Day'].isnull().sum()"
   ]
  },
  {
   "cell_type": "code",
   "execution_count": 156,
   "metadata": {},
   "outputs": [
    {
     "data": {
      "text/plain": [
       "71"
      ]
     },
     "execution_count": 156,
     "metadata": {},
     "output_type": "execute_result"
    }
   ],
   "source": [
    "df['Major Cause'].nunique()"
   ]
  },
  {
   "cell_type": "code",
   "execution_count": 157,
   "metadata": {},
   "outputs": [
    {
     "data": {
      "text/plain": [
       "array(['Angle, oncoming left turn', 'Not Reported',\n",
       "       'Rear-end (front to rear)', 'Broadside (front to side)',\n",
       "       'Non-collision (single vehicle)', 'Sideswipe, same direction',\n",
       "       'Head-on (front to front)', 'Unknown',\n",
       "       'Sideswipe, opposite direction', 'Other (explain in narrative)',\n",
       "       'Rear to side', 'Rear to rear'], dtype=object)"
      ]
     },
     "execution_count": 157,
     "metadata": {},
     "output_type": "execute_result"
    }
   ],
   "source": [
    "df['Crash Manner'].unique()"
   ]
  },
  {
   "cell_type": "code",
   "execution_count": 158,
   "metadata": {},
   "outputs": [
    {
     "data": {
      "text/plain": [
       "array(['Property Damage Only', 'Possible/Unknown', 'Major Injury',\n",
       "       'Minor Injury', 'Fatal'], dtype=object)"
      ]
     },
     "execution_count": 158,
     "metadata": {},
     "output_type": "execute_result"
    }
   ],
   "source": [
    "df['Crash Severity'].isnull().sum()\n",
    "df['Crash Severity'].unique()"
   ]
  },
  {
   "cell_type": "code",
   "execution_count": 159,
   "metadata": {},
   "outputs": [
    {
     "data": {
      "text/plain": [
       "array(['Dry', 'Not Reported', 'Mud, dirt', 'Wet', 'Ice/frost', 'Slush',\n",
       "       'Snow', 'Other (explain in narrative)',\n",
       "       'Water (standing or moving)', 'Unknown', 'Gravel', 'Sand', 'Oil'],\n",
       "      dtype=object)"
      ]
     },
     "execution_count": 159,
     "metadata": {},
     "output_type": "execute_result"
    }
   ],
   "source": [
    "df['Surface Conditions'].unique()"
   ]
  },
  {
   "cell_type": "code",
   "execution_count": 160,
   "metadata": {
    "scrolled": true
   },
   "outputs": [
    {
     "data": {
      "text/plain": [
       "array(['None Indicated', 'Alcohol (Statutory)',\n",
       "       'Drug/Alcohol (Statutory)', 'Drug', 'Refused',\n",
       "       'Under Influence of Alcohol/Drugs/Medications',\n",
       "       'Alcohol (< Statutory)', 'Drug/Alcohol (< Statutory)'],\n",
       "      dtype=object)"
      ]
     },
     "execution_count": 160,
     "metadata": {},
     "output_type": "execute_result"
    }
   ],
   "source": [
    "df['Drug/Alcohol Related'].unique()"
   ]
  },
  {
   "cell_type": "code",
   "execution_count": 161,
   "metadata": {},
   "outputs": [
    {
     "data": {
      "text/plain": [
       "array(['Other (explain in narrative)', 'Not Reported', 'None apparent',\n",
       "       'Weather conditions', 'Visual obstruction', 'Animal in roadway',\n",
       "       'Unknown', 'Glare', 'Non-motorist action', 'Severe crosswind'],\n",
       "      dtype=object)"
      ]
     },
     "execution_count": 161,
     "metadata": {},
     "output_type": "execute_result"
    }
   ],
   "source": [
    "df['Environment'].unique()"
   ]
  },
  {
   "cell_type": "code",
   "execution_count": 162,
   "metadata": {},
   "outputs": [
    {
     "data": {
      "text/plain": [
       "array(['None apparent', 'Not Reported',\n",
       "       'Surface condition (e.g.wet, icy)', 'Work Zone (roadway-related)',\n",
       "       'Other (explain in narrative)', 'Non-highway work', 'Debris',\n",
       "       'Ruts/holes/bumps', 'Unknown', 'Shoulders (none, low, soft, high)',\n",
       "       'Traffic control obscured', 'Obstruction in roadway',\n",
       "       'Slippery, loose or worn surface', 'Traffic backup, prior crash',\n",
       "       'Traffic backup, regular congestion',\n",
       "       'Traffic backup, prior non-recurring incident', 'Disabled vehicle'],\n",
       "      dtype=object)"
      ]
     },
     "execution_count": 162,
     "metadata": {},
     "output_type": "execute_result"
    }
   ],
   "source": [
    "df['Roadway'].unique()"
   ]
  },
  {
   "cell_type": "code",
   "execution_count": 163,
   "metadata": {},
   "outputs": [
    {
     "data": {
      "text/plain": [
       "array(['Clear', 'Not Reported', 'Cloudy', 'Rain', 'Snow',\n",
       "       'Blowing sand, soil, dirt', 'Sleet, hail', 'Unknown',\n",
       "       'Fog, smoke, smog', 'Severe Winds', 'Other (explain in narrative)',\n",
       "       'Blowing Snow', 'Freezing rain/drizzle'], dtype=object)"
      ]
     },
     "execution_count": 163,
     "metadata": {},
     "output_type": "execute_result"
    }
   ],
   "source": [
    "df['Weather Conditions'].unique()"
   ]
  },
  {
   "cell_type": "code",
   "execution_count": 164,
   "metadata": {},
   "outputs": [
    {
     "data": {
      "text/plain": [
       "0"
      ]
     },
     "execution_count": 164,
     "metadata": {},
     "output_type": "execute_result"
    }
   ],
   "source": [
    "df['Weather Conditions'].isna().sum()"
   ]
  },
  {
   "cell_type": "code",
   "execution_count": 165,
   "metadata": {},
   "outputs": [
    {
     "data": {
      "text/plain": [
       "array(['Paved', 'Unpaved', '0', '9'], dtype=object)"
      ]
     },
     "execution_count": 165,
     "metadata": {},
     "output_type": "execute_result"
    }
   ],
   "source": [
    "df['Paved Road'].unique()"
   ]
  },
  {
   "cell_type": "code",
   "execution_count": 166,
   "metadata": {},
   "outputs": [
    {
     "data": {
      "text/plain": [
       "26"
      ]
     },
     "execution_count": 166,
     "metadata": {},
     "output_type": "execute_result"
    }
   ],
   "source": [
    "df['Roadway Junction'].nunique()"
   ]
  },
  {
   "cell_type": "code",
   "execution_count": 167,
   "metadata": {},
   "outputs": [
    {
     "data": {
      "text/plain": [
       "array(['Collision with:  Vehicle in traffic', 'Collision with:  Animal',\n",
       "       'Non-collision events:  Overturn/rollover',\n",
       "       'Collision with fixed object:  Ditch',\n",
       "       'Collision with:  Parked motor vehicle',\n",
       "       'Non-collision events:  Other non-collision (explain in narrative)',\n",
       "       'Collision with fixed object:  Utility pole/light support',\n",
       "       'Collision with:  Non-motorist (see non-motorist section - NOT a unit)',\n",
       "       'Collision with fixed object:  Tree',\n",
       "       'Collision with fixed object:  Curb/island/raised median',\n",
       "       'Collision with:  Other non-fixed object (explain in narrative)',\n",
       "       'Collision with fixed object:  Guardrail - face',\n",
       "       'Collision with fixed object:  Other fixed object (explain in narrative)',\n",
       "       'Collision with fixed object:  Culvert/pipe opening',\n",
       "       'Not Reported',\n",
       "       'Collision with fixed object:  Bridge overhead structure',\n",
       "       'Collision with fixed object:  Traffic sign support',\n",
       "       'Collision with fixed object:  Impact attenuator/crash cushion',\n",
       "       'Collision with fixed object:  Concrete traffic barrier (median or right side)',\n",
       "       'Miscellaneous events:  Hit and run',\n",
       "       'Collision with fixed object:  Mailbox', 'Unknown',\n",
       "       'Miscellaneous events:  Fire/explosion',\n",
       "       'Collision with:  Railway vehicle/train',\n",
       "       'Non-collision events:  Jackknife',\n",
       "       'Collision with fixed object:  Bridge pier or support',\n",
       "       'Collision with fixed object:  Fence',\n",
       "       'Other (explain in narrative)',\n",
       "       'Collision with fixed object:  Traffic signal support',\n",
       "       'Collision with fixed object:  Cable barrier',\n",
       "       'Collision with fixed object:  Snow bank',\n",
       "       'Collision with:  Re-entering roadway',\n",
       "       'Collision with fixed object:  Landscape/shrubbery',\n",
       "       'Collision with fixed object:  Embankment',\n",
       "       'Collision with fixed object:  Other post/pole/support (explain in narrative)',\n",
       "       'Collision with fixed object:  Fire hydrant',\n",
       "       'Collision with:  Struck/struck by object/cargo/person from other vehicle',\n",
       "       'Non-collision events:  Non-contact vehicle (phantom)',\n",
       "       'Collision with fixed object:  Building',\n",
       "       'Collision with fixed object:  Ground',\n",
       "       'Collision with fixed object:  Bridge/bridge rail parapet',\n",
       "       'Non-collision events:  Vehicle went airborne',\n",
       "       'Collision with:  Thrown or falling object', '1',\n",
       "       'Collision with fixed object:  Other traffic barrier (explain in narrative)',\n",
       "       'Collision with fixed object:  Guardrail - end',\n",
       "       'Miscellaneous events:  Immersion', '11',\n",
       "       'Miscellaneous events:  Vehicle out of gear/rolled',\n",
       "       'Miscellaneous events:  Eluding law enforcement',\n",
       "       'Collision with fixed object:  Wall', '2', '3',\n",
       "       'Non-collision events:  Fell/jumped from vehicle', '8', '6', '5',\n",
       "       '4', '13', '9', 'Collision with:  Work zone maintenance equipment',\n",
       "       '7', '10', '94', '12',\n",
       "       'Miscellaneous events:  Gas inhalation/asphyxiation'], dtype=object)"
      ]
     },
     "execution_count": 167,
     "metadata": {},
     "output_type": "execute_result"
    }
   ],
   "source": [
    "df['First Harmful Event'].unique()"
   ]
  },
  {
   "cell_type": "code",
   "execution_count": 168,
   "metadata": {},
   "outputs": [
    {
     "data": {
      "text/plain": [
       "array(['On Roadway', 'Not Reported.', '7', 'Roadside', 'Shoulder',\n",
       "       'Outside trafficway', '99', 'Gore', 'Median', '8', '98', 'Unknown'],\n",
       "      dtype=object)"
      ]
     },
     "execution_count": 168,
     "metadata": {},
     "output_type": "execute_result"
    }
   ],
   "source": [
    "df['Harmful Event Location'].unique()"
   ]
  },
  {
   "cell_type": "code",
   "execution_count": 169,
   "metadata": {},
   "outputs": [
    {
     "data": {
      "text/plain": [
       "331088"
      ]
     },
     "execution_count": 169,
     "metadata": {},
     "output_type": "execute_result"
    }
   ],
   "source": [
    "(df['Vehicles']==2).sum()"
   ]
  },
  {
   "cell_type": "code",
   "execution_count": 170,
   "metadata": {},
   "outputs": [
    {
     "data": {
      "text/plain": [
       "170203"
      ]
     },
     "execution_count": 170,
     "metadata": {},
     "output_type": "execute_result"
    }
   ],
   "source": [
    "(df['Occupants']==1).sum()"
   ]
  },
  {
   "cell_type": "code",
   "execution_count": 171,
   "metadata": {},
   "outputs": [
    {
     "name": "stdout",
     "output_type": "stream",
     "text": [
      "<class 'numpy.int64'>\n",
      "<class 'numpy.int64'>\n"
     ]
    }
   ],
   "source": [
    "print(type(df['Occupants'][1]))\n",
    "print(type(df['Vehicles'][1]))"
   ]
  },
  {
   "cell_type": "code",
   "execution_count": 172,
   "metadata": {},
   "outputs": [
    {
     "data": {
      "text/plain": [
       "553864"
      ]
     },
     "execution_count": 172,
     "metadata": {},
     "output_type": "execute_result"
    }
   ],
   "source": [
    "(df['Fatalities']==0).sum()"
   ]
  },
  {
   "cell_type": "code",
   "execution_count": 173,
   "metadata": {},
   "outputs": [
    {
     "name": "stdout",
     "output_type": "stream",
     "text": [
      "0\n"
     ]
    },
    {
     "data": {
      "text/plain": [
       "array([ 0,  1,  2,  3,  5,  4,  7, 13,  6,  9, 16, 11, 22, 14,  8, 21, 10,\n",
       "       12, 38, 26, 35, 15, 25, 32, 34, 30])"
      ]
     },
     "execution_count": 173,
     "metadata": {},
     "output_type": "execute_result"
    }
   ],
   "source": [
    "print(df['Injuries'].isna().sum())\n",
    "df['Injuries'].unique()"
   ]
  },
  {
   "cell_type": "code",
   "execution_count": 174,
   "metadata": {},
   "outputs": [
    {
     "data": {
      "text/plain": [
       "array([ 0,  1,  2,  3,  4,  5,  7,  6, 10])"
      ]
     },
     "execution_count": 174,
     "metadata": {},
     "output_type": "execute_result"
    }
   ],
   "source": [
    "df['Major Injuries'].unique()"
   ]
  },
  {
   "cell_type": "code",
   "execution_count": 176,
   "metadata": {},
   "outputs": [
    {
     "data": {
      "text/plain": [
       "array([ 0,  1,  2,  3,  4,  5,  6, 22,  8,  7, 12, 10,  9, 11, 34, 38, 20,\n",
       "       33])"
      ]
     },
     "execution_count": 176,
     "metadata": {},
     "output_type": "execute_result"
    }
   ],
   "source": [
    "df['Minor Injuries'].unique()"
   ]
  },
  {
   "cell_type": "code",
   "execution_count": 177,
   "metadata": {},
   "outputs": [
    {
     "data": {
      "text/plain": [
       "404449"
      ]
     },
     "execution_count": 177,
     "metadata": {},
     "output_type": "execute_result"
    }
   ],
   "source": [
    "(df['Injuries']==0).sum()"
   ]
  },
  {
   "cell_type": "markdown",
   "metadata": {},
   "source": [
    "More than half of the accidents have no injuries."
   ]
  },
  {
   "cell_type": "markdown",
   "metadata": {},
   "source": [
    "Dropping 'Minor Injuries' 'Major Injuries' 'Possible Injuries' 'Unknown Injuries'. Leaving only sum: 'Injuries'"
   ]
  },
  {
   "cell_type": "code",
   "execution_count": 178,
   "metadata": {},
   "outputs": [
    {
     "data": {
      "text/plain": [
       "Index(['DOT Case Number', 'Law Enforcement Case Number', 'Crash Date & Time',\n",
       "       'District', 'County', 'City', 'Route', 'Crash Month', 'Crash Day',\n",
       "       'Crash Time', 'Major Cause', 'Crash Manner', 'Crash Severity',\n",
       "       'Surface Conditions', 'Drug/Alcohol Related', 'Environment', 'Roadway',\n",
       "       'Light Conditions', 'Weather Conditions', 'Work Zone', 'Paved Road',\n",
       "       'Roadway Junction', 'First Harmful Event', 'Harmful Event Location',\n",
       "       'Literal Description', 'Vehicles', 'Occupants', 'Fatalities',\n",
       "       'Injuries', 'Major Injuries', 'Minor Injuries', 'Possible Injuries',\n",
       "       'Unknown Injuries', 'Property Damage', 'Report Type', 'Rest Update',\n",
       "       'Crash Location'],\n",
       "      dtype='object')"
      ]
     },
     "execution_count": 178,
     "metadata": {},
     "output_type": "execute_result"
    }
   ],
   "source": [
    "df.columns"
   ]
  },
  {
   "cell_type": "code",
   "execution_count": 179,
   "metadata": {},
   "outputs": [
    {
     "data": {
      "text/plain": [
       "5487"
      ]
     },
     "execution_count": 179,
     "metadata": {},
     "output_type": "execute_result"
    }
   ],
   "source": [
    "(df['Property Damage']==0).sum()"
   ]
  },
  {
   "cell_type": "markdown",
   "metadata": {},
   "source": [
    "Dropping non-relevant columns"
   ]
  },
  {
   "cell_type": "code",
   "execution_count": 180,
   "metadata": {},
   "outputs": [],
   "source": [
    "df.drop(['DOT Case Number', 'Law Enforcement Case Number', 'Work Zone', 'Route', 'Literal Description', 'Harmful Event Location', 'Report Type', 'Rest Update', 'Minor Injuries', 'Major Injuries', 'Possible Injuries', 'Unknown Injuries'],axis=1, inplace=True)"
   ]
  },
  {
   "cell_type": "code",
   "execution_count": 184,
   "metadata": {},
   "outputs": [
    {
     "data": {
      "text/plain": [
       "Index(['Crash Date & Time', 'District', 'County', 'City', 'Crash Month',\n",
       "       'Crash Day', 'Crash Time', 'Major Cause', 'Crash Manner',\n",
       "       'Crash Severity', 'Surface Conditions', 'Drug/Alcohol Related',\n",
       "       'Environment', 'Roadway', 'Light Conditions', 'Weather Conditions',\n",
       "       'Paved Road', 'Roadway Junction', 'First Harmful Event', 'Vehicles',\n",
       "       'Occupants', 'Fatalities', 'Injuries', 'Property Damage',\n",
       "       'Crash Location'],\n",
       "      dtype='object')"
      ]
     },
     "execution_count": 184,
     "metadata": {},
     "output_type": "execute_result"
    }
   ],
   "source": [
    "df.columns"
   ]
  },
  {
   "cell_type": "code",
   "execution_count": 185,
   "metadata": {},
   "outputs": [
    {
     "data": {
      "text/html": [
       "<div>\n",
       "<style scoped>\n",
       "    .dataframe tbody tr th:only-of-type {\n",
       "        vertical-align: middle;\n",
       "    }\n",
       "\n",
       "    .dataframe tbody tr th {\n",
       "        vertical-align: top;\n",
       "    }\n",
       "\n",
       "    .dataframe thead th {\n",
       "        text-align: right;\n",
       "    }\n",
       "</style>\n",
       "<table border=\"1\" class=\"dataframe\">\n",
       "  <thead>\n",
       "    <tr style=\"text-align: right;\">\n",
       "      <th></th>\n",
       "      <th>Crash Date &amp; Time</th>\n",
       "      <th>District</th>\n",
       "      <th>County</th>\n",
       "      <th>City</th>\n",
       "      <th>Crash Month</th>\n",
       "      <th>Crash Day</th>\n",
       "      <th>Crash Time</th>\n",
       "      <th>Major Cause</th>\n",
       "      <th>Crash Manner</th>\n",
       "      <th>Crash Severity</th>\n",
       "      <th>...</th>\n",
       "      <th>Weather Conditions</th>\n",
       "      <th>Paved Road</th>\n",
       "      <th>Roadway Junction</th>\n",
       "      <th>First Harmful Event</th>\n",
       "      <th>Vehicles</th>\n",
       "      <th>Occupants</th>\n",
       "      <th>Fatalities</th>\n",
       "      <th>Injuries</th>\n",
       "      <th>Property Damage</th>\n",
       "      <th>Crash Location</th>\n",
       "    </tr>\n",
       "  </thead>\n",
       "  <tbody>\n",
       "    <tr>\n",
       "      <th>0</th>\n",
       "      <td>06/28/2011 11:38:00 AM</td>\n",
       "      <td>1</td>\n",
       "      <td>POLK</td>\n",
       "      <td>URBANDALE</td>\n",
       "      <td>June</td>\n",
       "      <td>Tuesday</td>\n",
       "      <td>11:38</td>\n",
       "      <td>Crossed centerline (undivided)</td>\n",
       "      <td>Angle, oncoming left turn</td>\n",
       "      <td>Property Damage Only</td>\n",
       "      <td>...</td>\n",
       "      <td>Clear</td>\n",
       "      <td>Paved</td>\n",
       "      <td>Intersection:  Four-way intersection</td>\n",
       "      <td>Collision with:  Vehicle in traffic</td>\n",
       "      <td>2</td>\n",
       "      <td>3</td>\n",
       "      <td>0</td>\n",
       "      <td>0</td>\n",
       "      <td>6500</td>\n",
       "      <td>POINT (-93.73654589797147 41.62922672395549)</td>\n",
       "    </tr>\n",
       "    <tr>\n",
       "      <th>1</th>\n",
       "      <td>07/03/2011 09:43:00 PM</td>\n",
       "      <td>1</td>\n",
       "      <td>BOONE</td>\n",
       "      <td>NaN</td>\n",
       "      <td>July</td>\n",
       "      <td>Sunday</td>\n",
       "      <td>21:43</td>\n",
       "      <td>Animal</td>\n",
       "      <td>Not Reported</td>\n",
       "      <td>Property Damage Only</td>\n",
       "      <td>...</td>\n",
       "      <td>Not Reported</td>\n",
       "      <td>Paved</td>\n",
       "      <td>Not Reported</td>\n",
       "      <td>Collision with:  Animal</td>\n",
       "      <td>1</td>\n",
       "      <td>1</td>\n",
       "      <td>0</td>\n",
       "      <td>0</td>\n",
       "      <td>2000</td>\n",
       "      <td>POINT (-93.87429624122426 42.18527185276003)</td>\n",
       "    </tr>\n",
       "    <tr>\n",
       "      <th>2</th>\n",
       "      <td>02/08/2011 07:00:00 PM</td>\n",
       "      <td>1</td>\n",
       "      <td>WEBSTER</td>\n",
       "      <td>NaN</td>\n",
       "      <td>February</td>\n",
       "      <td>Tuesday</td>\n",
       "      <td>19:00</td>\n",
       "      <td>Animal</td>\n",
       "      <td>Not Reported</td>\n",
       "      <td>Property Damage Only</td>\n",
       "      <td>...</td>\n",
       "      <td>Not Reported</td>\n",
       "      <td>Paved</td>\n",
       "      <td>Not Reported</td>\n",
       "      <td>Collision with:  Animal</td>\n",
       "      <td>1</td>\n",
       "      <td>1</td>\n",
       "      <td>0</td>\n",
       "      <td>0</td>\n",
       "      <td>2000</td>\n",
       "      <td>POINT (-94.12854269059548 42.46583138486093)</td>\n",
       "    </tr>\n",
       "    <tr>\n",
       "      <th>3</th>\n",
       "      <td>05/04/2012 11:51:00 AM</td>\n",
       "      <td>6</td>\n",
       "      <td>JOHNSON</td>\n",
       "      <td>IOWA CITY</td>\n",
       "      <td>May</td>\n",
       "      <td>Friday</td>\n",
       "      <td>11:51</td>\n",
       "      <td>FTYROW:  Other (explain in narrative)</td>\n",
       "      <td>Rear-end (front to rear)</td>\n",
       "      <td>Property Damage Only</td>\n",
       "      <td>...</td>\n",
       "      <td>Clear</td>\n",
       "      <td>Paved</td>\n",
       "      <td>Non-intersection:  Non-junction/no special fea...</td>\n",
       "      <td>Collision with:  Vehicle in traffic</td>\n",
       "      <td>3</td>\n",
       "      <td>3</td>\n",
       "      <td>0</td>\n",
       "      <td>0</td>\n",
       "      <td>2599</td>\n",
       "      <td>POINT (-91.53210057297697 41.64546030234435)</td>\n",
       "    </tr>\n",
       "    <tr>\n",
       "      <th>4</th>\n",
       "      <td>07/27/2011 06:10:00 AM</td>\n",
       "      <td>1</td>\n",
       "      <td>POLK</td>\n",
       "      <td>DES MOINES</td>\n",
       "      <td>July</td>\n",
       "      <td>Wednesday</td>\n",
       "      <td>06:10</td>\n",
       "      <td>Unknown</td>\n",
       "      <td>Broadside (front to side)</td>\n",
       "      <td>Property Damage Only</td>\n",
       "      <td>...</td>\n",
       "      <td>Cloudy</td>\n",
       "      <td>Paved</td>\n",
       "      <td>Intersection:  Four-way intersection</td>\n",
       "      <td>Collision with:  Vehicle in traffic</td>\n",
       "      <td>2</td>\n",
       "      <td>2</td>\n",
       "      <td>0</td>\n",
       "      <td>0</td>\n",
       "      <td>3100</td>\n",
       "      <td>POINT (-93.62744704200334 41.586315087439765)</td>\n",
       "    </tr>\n",
       "  </tbody>\n",
       "</table>\n",
       "<p>5 rows × 25 columns</p>\n",
       "</div>"
      ],
      "text/plain": [
       "        Crash Date & Time  District   County        City Crash Month  \\\n",
       "0  06/28/2011 11:38:00 AM         1     POLK   URBANDALE        June   \n",
       "1  07/03/2011 09:43:00 PM         1    BOONE         NaN        July   \n",
       "2  02/08/2011 07:00:00 PM         1  WEBSTER         NaN    February   \n",
       "3  05/04/2012 11:51:00 AM         6  JOHNSON   IOWA CITY         May   \n",
       "4  07/27/2011 06:10:00 AM         1     POLK  DES MOINES        July   \n",
       "\n",
       "   Crash Day Crash Time                            Major Cause  \\\n",
       "0    Tuesday      11:38         Crossed centerline (undivided)   \n",
       "1     Sunday      21:43                                 Animal   \n",
       "2    Tuesday      19:00                                 Animal   \n",
       "3     Friday      11:51  FTYROW:  Other (explain in narrative)   \n",
       "4  Wednesday      06:10                                Unknown   \n",
       "\n",
       "                Crash Manner        Crash Severity  ... Weather Conditions  \\\n",
       "0  Angle, oncoming left turn  Property Damage Only  ...              Clear   \n",
       "1               Not Reported  Property Damage Only  ...       Not Reported   \n",
       "2               Not Reported  Property Damage Only  ...       Not Reported   \n",
       "3   Rear-end (front to rear)  Property Damage Only  ...              Clear   \n",
       "4  Broadside (front to side)  Property Damage Only  ...             Cloudy   \n",
       "\n",
       "  Paved Road                                   Roadway Junction  \\\n",
       "0      Paved               Intersection:  Four-way intersection   \n",
       "1      Paved                                       Not Reported   \n",
       "2      Paved                                       Not Reported   \n",
       "3      Paved  Non-intersection:  Non-junction/no special fea...   \n",
       "4      Paved               Intersection:  Four-way intersection   \n",
       "\n",
       "                   First Harmful Event Vehicles Occupants Fatalities Injuries  \\\n",
       "0  Collision with:  Vehicle in traffic        2         3          0        0   \n",
       "1              Collision with:  Animal        1         1          0        0   \n",
       "2              Collision with:  Animal        1         1          0        0   \n",
       "3  Collision with:  Vehicle in traffic        3         3          0        0   \n",
       "4  Collision with:  Vehicle in traffic        2         2          0        0   \n",
       "\n",
       "  Property Damage                                 Crash Location  \n",
       "0            6500   POINT (-93.73654589797147 41.62922672395549)  \n",
       "1            2000   POINT (-93.87429624122426 42.18527185276003)  \n",
       "2            2000   POINT (-94.12854269059548 42.46583138486093)  \n",
       "3            2599   POINT (-91.53210057297697 41.64546030234435)  \n",
       "4            3100  POINT (-93.62744704200334 41.586315087439765)  \n",
       "\n",
       "[5 rows x 25 columns]"
      ]
     },
     "execution_count": 185,
     "metadata": {},
     "output_type": "execute_result"
    }
   ],
   "source": [
    "df.head()"
   ]
  },
  {
   "cell_type": "code",
   "execution_count": 186,
   "metadata": {},
   "outputs": [],
   "source": [
    "df['Crash Date'] = df['Crash Date & Time'].str[:10]"
   ]
  },
  {
   "cell_type": "code",
   "execution_count": 187,
   "metadata": {},
   "outputs": [
    {
     "data": {
      "text/plain": [
       "0    06/28/2011\n",
       "1    07/03/2011\n",
       "2    02/08/2011\n",
       "3    05/04/2012\n",
       "4    07/27/2011\n",
       "Name: Crash Date, dtype: object"
      ]
     },
     "execution_count": 187,
     "metadata": {},
     "output_type": "execute_result"
    }
   ],
   "source": [
    "df['Crash Date'].head()"
   ]
  },
  {
   "cell_type": "code",
   "execution_count": 188,
   "metadata": {},
   "outputs": [],
   "source": [
    "df.drop(['Crash Date & Time'], axis =1, inplace = True)"
   ]
  },
  {
   "cell_type": "code",
   "execution_count": 189,
   "metadata": {},
   "outputs": [
    {
     "data": {
      "text/plain": [
       "Index(['District', 'County', 'City', 'Crash Month', 'Crash Day', 'Crash Time',\n",
       "       'Major Cause', 'Crash Manner', 'Crash Severity', 'Surface Conditions',\n",
       "       'Drug/Alcohol Related', 'Environment', 'Roadway', 'Light Conditions',\n",
       "       'Weather Conditions', 'Paved Road', 'Roadway Junction',\n",
       "       'First Harmful Event', 'Vehicles', 'Occupants', 'Fatalities',\n",
       "       'Injuries', 'Property Damage', 'Crash Location', 'Crash Date'],\n",
       "      dtype='object')"
      ]
     },
     "execution_count": 189,
     "metadata": {},
     "output_type": "execute_result"
    }
   ],
   "source": [
    "df.columns"
   ]
  },
  {
   "cell_type": "code",
   "execution_count": 196,
   "metadata": {},
   "outputs": [
    {
     "data": {
      "text/plain": [
       "0         False\n",
       "1         False\n",
       "2         False\n",
       "3         False\n",
       "4         False\n",
       "          ...  \n",
       "557180    False\n",
       "557181    False\n",
       "557182    False\n",
       "557183    False\n",
       "557184    False\n",
       "Length: 557129, dtype: bool"
      ]
     },
     "execution_count": 196,
     "metadata": {},
     "output_type": "execute_result"
    }
   ],
   "source": [
    "duplicateRowsDF = df.duplicated()\n",
    "duplicateRowsDF"
   ]
  },
  {
   "cell_type": "code",
   "execution_count": 197,
   "metadata": {},
   "outputs": [
    {
     "data": {
      "text/plain": [
       "(557129, 25)"
      ]
     },
     "execution_count": 197,
     "metadata": {},
     "output_type": "execute_result"
    }
   ],
   "source": [
    "df.shape"
   ]
  },
  {
   "cell_type": "markdown",
   "metadata": {},
   "source": [
    "Drop duplicates"
   ]
  },
  {
   "cell_type": "code",
   "execution_count": 195,
   "metadata": {},
   "outputs": [],
   "source": [
    "df.drop_duplicates(subset=None, keep='first', inplace=True)"
   ]
  },
  {
   "cell_type": "code",
   "execution_count": 59,
   "metadata": {},
   "outputs": [],
   "source": [
    "#print((df['Crash Date & Time'].str.len() !=10) == True)"
   ]
  },
  {
   "cell_type": "code",
   "execution_count": 58,
   "metadata": {},
   "outputs": [],
   "source": [
    "#df['Crash Date'] = pd.to_datetime(df['Crash Date & Time'], format = '%m/%d/%y')"
   ]
  },
  {
   "cell_type": "code",
   "execution_count": null,
   "metadata": {},
   "outputs": [],
   "source": []
  },
  {
   "cell_type": "code",
   "execution_count": null,
   "metadata": {},
   "outputs": [],
   "source": []
  }
 ],
 "metadata": {
  "kernelspec": {
   "display_name": "Python 3",
   "language": "python",
   "name": "python3"
  },
  "language_info": {
   "codemirror_mode": {
    "name": "ipython",
    "version": 3
   },
   "file_extension": ".py",
   "mimetype": "text/x-python",
   "name": "python",
   "nbconvert_exporter": "python",
   "pygments_lexer": "ipython3",
   "version": "3.7.4"
  }
 },
 "nbformat": 4,
 "nbformat_minor": 2
}
